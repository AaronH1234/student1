{
 "cells": [
  {
   "cell_type": "code",
   "execution_count": null,
   "metadata": {},
   "outputs": [],
   "source": [
    "---\n",
    "toc: true\n",
    "comments: true\n",
    "layout: post\n",
    "title: Week 0 Hacks \n",
    "description: The College Board testing language is Pseudo Code.  Pseudo mean kind-of language that we will compare to Python.\n",
    "courses: { csp: {week: 1} }\n",
    "type: hacks\n",
    "---"
   ]
  },
  {
   "cell_type": "markdown",
   "metadata": {},
   "source": [
    "## Hacks Notes\n",
    "- Establish Agile Mindset or Growth Mindset.\n",
    "\n",
    "- Making mistakes, research, asking questions, and continual iteration is the key to success.\n",
    "\n",
    "- Need to bring a device everyday in class\n",
    "\n",
    "- No need PAPER in this class!\n",
    "\n",
    "- late assignment must be defended in office hours and will receive 10% deduction.\n",
    "\n",
    "- High \"A\" you need to do extra work or something beyond the specific requirements given.\n",
    "\n",
    "- Low \"A\" your plans must be consistent with key objectives and technicals.\n",
    "\n",
    "- \"B\" there are some problem in your code.\n",
    "\n",
    "- \"C\" is a lack of effort and didn't finish the requirements given.\n",
    "\n",
    "- Below \"C\" is not paying attention in class like playing on your phone or doing other classes homework.\n",
    "\n",
    "- Zero means plagiarism of the work."
   ]
  },
  {
   "cell_type": "markdown",
   "metadata": {},
   "source": [
    "## Promblem I Faced and How I Solve It\n",
    "- In the journey of setting development, I faced so many diffenet problems. First is the account setup. When the first time setting up my account, I didn't enter a password so I need to reinstall the system but I don't really how to do that. So I went to find my partner and he enter some code amd explain to me what those code mean and help me reinstall the system. \n",
    "\n",
    "- Second problem is when I was doing the blunder install, I tried to install it but it gived me an error and said network problem. I tried it again but it still didn't work. Then I went to ask my partner and he told me that it might be the wifi problem and told me to try it when I back home. So I tried it when I was back home, I run install it using my home wifi and it works."
   ]
  }
 ],
 "metadata": {
  "language_info": {
   "name": "python"
  },
  "orig_nbformat": 4
 },
 "nbformat": 4,
 "nbformat_minor": 2
}
