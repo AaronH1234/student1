{
 "cells": [
  {
   "cell_type": "markdown",
   "metadata": {},
   "source": [
    "---\n",
    "title: Seeds team\n",
    "toc: true\n",
    "comments: false\n",
    "layout: post\n",
    "description: GitHub Issues\n",
    "type: hacks\n",
    "courses: {compsci: {'week': 25}}\n",
    "---"
   ]
  },
  {
   "cell_type": "markdown",
   "metadata": {},
   "source": [
    "## Team Seed\n",
    "\n",
    "### Team member\n",
    "- Yuyang Hsu(Aaron): I am more good at frontend than backend, so in a project, I will be more focus on frontend, but I will help on backend. In a group, I am easy to communicate with so we can get work done as a group more efficiently.\n",
    "- Ninaad: I worked on both frontend and backend throughout this course, but most importantly I learned how to work as a team and be more adaptable.\n",
    "- Patrick: I worked on mostly backend but ready to learn other things. I am looking forward to learn more this trimester  \n",
    "\n",
    "### Team Ideation\n",
    "- This tri we plan to collaborate and help each other with our individual projects\n",
    "- We also plan to work on the titanic ML model and improve it \n",
    "- Ninaad: Model work\n",
    "- Aaron: Finding ML models\n",
    "- Patrick: Ideation in relation to ML modeling and backend development"
   ]
  }
 ],
 "metadata": {
  "language_info": {
   "name": "python"
  }
 },
 "nbformat": 4,
 "nbformat_minor": 2
}
