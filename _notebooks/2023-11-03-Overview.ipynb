{
 "cells": [
  {
   "cell_type": "markdown",
   "metadata": {},
   "source": [
    "---\n",
    "toc: true\n",
    "comments: false\n",
    "layout: post\n",
    "title: Overview of Tri1\n",
    "type: hacks\n",
    "courses: { compsci: {week: 12} }\n",
    "---"
   ]
  },
  {
   "cell_type": "markdown",
   "metadata": {},
   "source": [
    "## Overview of this tri"
   ]
  },
  {
   "cell_type": "markdown",
   "metadata": {},
   "source": [
    "## What did I learn?\n",
    "\n",
    "- Data Abstraction\n",
    "\n",
    "    - Learn about make something into something\n",
    "\n",
    "    - name = Aaron\n",
    "\n",
    "    - age = 16\n",
    "\n",
    "- Algorithms\n",
    "\n",
    "    - Learn about some Mathematical Operations\n",
    "\n",
    "    - Learn about len() can know the lenght\n",
    "\n",
    "- Boolean If\n",
    "\n",
    "    - Learn about the if statement: if, elif, else\n",
    "\n",
    "    - Learn about the Relational Operators: and, or, not, xor(Two value are different then is True), nand, nor\n",
    "\n",
    "- Iteration\n",
    "\n",
    "    - Learn about while loop\n",
    "\n",
    "    - Learn about range\n",
    "\n",
    "    - Learn about for loop\n",
    "\n",
    "    - Learn about try and except\n",
    "\n",
    "    - Continue and Break\n",
    "\n",
    "- Developing Algoritms\n",
    "\n",
    "    - An algorithm is a procedure or formula used for solving a problem\n",
    "\n",
    "    - Combine what we learn from the past\n",
    "\n",
    "    - import random\n",
    "\n",
    "- List and Search\n",
    "\n",
    "    - List is a []\n",
    "\n",
    "    - Learn thing that can do with a list like input, append, pop, del, etc.\n",
    "\n",
    "    - Binary Search: Search from the middle\n",
    "\n",
    "- Developing Procedures\n",
    "\n",
    "    - A procedure is a named group of code that has paramaters and return values.\n",
    "\n",
    "    - Learn about a return value\n",
    "\n",
    "    - Learn about class, is an outline for a set of nested functions and variables.\n",
    "\n",
    "- Libraries\n",
    "\n",
    "    - A file that contains procedures that can be used in a program is called a library.\n",
    "\n",
    "    - Libraries allows the imported procedures from the library to interact with the rest of your code.\n",
    "\n",
    "    - from import\n",
    "\n",
    "    - import as\n",
    "\n",
    "- Simulations\n",
    "\n",
    "    - A simulation uses a mathematical descriptions, or models, of a real system in the form of a computer program.\n",
    "\n",
    "    - earn about Random\n",
    "\n",
    "    - ![math](https://pythontutorialhome.files.wordpress.com/2019/05/image-2.png)\n",
    "\n",
    "    - Combine what we learn before with simulations"
   ]
  },
  {
   "cell_type": "markdown",
   "metadata": {},
   "source": [
    "## Reflection of Tri 1\n",
    "- Throughtout the first trimaster, I gained a lot of new skills on coding. I learned a lot about python during the student teaching, but I also learned a lot of stuff throughout my teammate and classmate. I will go ask questions to people in class, and everytime I can gian some useful skills or recommendation from them.\n",
    "\n",
    "- On the passion project, I usually do frontend for this project. At the begining of this class and this project, I have 0 expressence on the html, CSS, or JS, but throughout the project I learned a lot from it. I also know how the backend and the fronted works."
   ]
  },
  {
   "cell_type": "markdown",
   "metadata": {},
   "source": [
    "## Memories and Learning\n",
    "- Getting help from others\n",
    "\n",
    "- Working on solving problems for the passion project\n",
    "\n",
    "- Learn how to work on coding in a group\n",
    "\n",
    "- Learing using new coding language"
   ]
  },
  {
   "cell_type": "markdown",
   "metadata": {},
   "source": [
    "## What I want to Learn Next Tri\n",
    "- Learn more about html, JS, CSS\n",
    "- I want to learn more about AWS\n",
    "- I want to know more knowledge about frontend and backend"
   ]
  }
 ],
 "metadata": {
  "language_info": {
   "name": "python"
  }
 },
 "nbformat": 4,
 "nbformat_minor": 2
}
