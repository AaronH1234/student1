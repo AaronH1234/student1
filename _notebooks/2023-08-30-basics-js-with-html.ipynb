{
 "cells": [
  {
   "cell_type": "markdown",
   "metadata": {},
   "source": [
    "---\n",
    "title: Using Javascript with HTML DOM\n",
    "hide: True\n",
    "description: A Tech Talk on how javascript can interact with HTML DOM\n",
    "type: ccc\n",
    "permalink: /basics/dom\n",
    "author: Rohan Juneja\n",
    "---"
   ]
  },
  {
   "cell_type": "raw",
   "metadata": {},
   "source": [
    "{% include nav_basics.html %}\n"
   ]
  },
  {
   "cell_type": "markdown",
   "metadata": {},
   "source": [
    "\n",
    "# Following allong\n",
    "- Create a new markdown file in _posts (you will be able to put HTML in here)\n",
    "- You can try the concepts we are doing here on that post"
   ]
  },
  {
   "cell_type": "markdown",
   "metadata": {},
   "source": [
    "# Getting HTML elements in your javascript\n",
    "- To get an HTML element, use ``document.getElementById(\"the id here\")``\n",
    "- You will use the ID that you set in your HTML\n",
    "- if you `console.log` the resulting variable you will get some information about the element"
   ]
  },
  {
   "cell_type": "code",
   "execution_count": 10,
   "metadata": {},
   "outputs": [
    {
     "data": {
      "text/html": [
       "<!-- the ID must be specified on the element -->\n",
       "<h1 id=\"title1\">My Title</h1>\n",
       "\n",
       "<!-- our javascript goe here -->\n",
       "<script>\n",
       "var titleElement = document.getElementById(\"title1\")\n",
       "console.log(\"Example #1\")\n",
       "console.log(titleElement)\n",
       "</script>\n"
      ],
      "text/plain": [
       "<IPython.core.display.HTML object>"
      ]
     },
     "metadata": {},
     "output_type": "display_data"
    }
   ],
   "source": [
    "%%html\n",
    "<!-- the ID must be specified on the element -->\n",
    "<h1 id=\"title1\">My Title</h1>\n",
    "\n",
    "<!-- our javascript goe here -->\n",
    "<script>\n",
    "var titleElement = document.getElementById(\"title1\")\n",
    "console.log(\"Example #1\")\n",
    "console.log(titleElement)\n",
    "</script>"
   ]
  },
  {
   "cell_type": "markdown",
   "metadata": {},
   "source": [
    "# Basics of Objects\n",
    "- Our variable titleElement stores an \"object\"\n",
    "- Basically think of this as a group of data\n",
    "   - Example \"name\" is a variable\n",
    "   - BUT Student #10's name is more specific, in this case `Student #10` is the object\n",
    "   - The name of Student #10 would be referred to as `Student #10.name` rather than `name`\n",
    "- To access a certain type of data from an \"object\" we use \".\" notation\n",
    "  - ie. To get the content of this titleElement, we would do titleElement.innerHTML"
   ]
  },
  {
   "cell_type": "code",
   "execution_count": 11,
   "metadata": {},
   "outputs": [
    {
     "data": {
      "text/html": [
       "<!-- the ID must be specified on the element -->\n",
       "<h1 id=\"title2\">My Title</h1>\n",
       "\n",
       "<!-- our javascript goe here -->\n",
       "<script>\n",
       "var titleElement = document.getElementById(\"title2\")\n",
       "console.log(\"Example #2\")\n",
       "console.log(titleElement.innerHTML)\n",
       "</script>\n"
      ],
      "text/plain": [
       "<IPython.core.display.HTML object>"
      ]
     },
     "metadata": {},
     "output_type": "display_data"
    }
   ],
   "source": [
    "%%html\n",
    "<!-- the ID must be specified on the element -->\n",
    "<h1 id=\"title2\">My Title</h1>\n",
    "\n",
    "<!-- our javascript goe here -->\n",
    "<script>\n",
    "var titleElement = document.getElementById(\"title2\")\n",
    "console.log(\"Example #2\")\n",
    "console.log(titleElement.innerHTML)\n",
    "</script>"
   ]
  },
  {
   "cell_type": "markdown",
   "metadata": {},
   "source": [
    "# Modifying the HTML\n",
    "- We can treat the data in this \"object\" (the html element) as a variable\n",
    "  - Therefore, we can change the value using the \"=\" (assignment) operator"
   ]
  },
  {
   "cell_type": "code",
   "execution_count": 14,
   "metadata": {},
   "outputs": [
    {
     "data": {
      "text/html": [
       "<!-- the ID must be specified on the element -->\n",
       "<h1 id=\"title3\">My Title</h1>\n",
       "\n",
       "<!-- our javascript goe here -->\n",
       "<script>\n",
       "var titleElement = document.getElementById(\"title3\")\n",
       "titleElement.innerHTML = \"A better title\"\n",
       "</script>\n"
      ],
      "text/plain": [
       "<IPython.core.display.HTML object>"
      ]
     },
     "metadata": {},
     "output_type": "display_data"
    }
   ],
   "source": [
    "%%html\n",
    "<!-- the ID must be specified on the element -->\n",
    "<h1 id=\"title3\">My Title</h1>\n",
    "\n",
    "<!-- our javascript goe here -->\n",
    "<script>\n",
    "var titleElement = document.getElementById(\"title3\")\n",
    "titleElement.innerHTML = \"A better title\"\n",
    "</script>"
   ]
  },
  {
   "cell_type": "markdown",
   "metadata": {},
   "source": [
    "# Functions with Objects\n",
    "- Functions allow you to \"do something\"\n",
    "  - ex. \"eat food\"\n",
    "- We have used functions in a few of the examples\n",
    "  - console.log = \"print something\"\n",
    "  - document.getElementById = \"find an element with id\"\n",
    "- Functions take in parameters, what to do (inside the parenthesis)\n",
    "  - ex. we have to tell console.log what to print\n",
    "  - ex #2. we have to tell document.getElementById what the id of the elemt is\n",
    "- Functions can be used with objects as well\n",
    "  - Example: doWork (who is doing the work)\n",
    "  - With Objects: Student #10, doWork (`Student #10.doWork()`)\n",
    "  - The parenthesis after indicate it is a function (parameters can go in there as well)"
   ]
  },
  {
   "cell_type": "markdown",
   "metadata": {},
   "source": [
    "# Creating elements\n",
    "- We can create an element with the document.createElement function -> takes in the type of element\n",
    "- We can set properties in the element just like we did with the h1"
   ]
  },
  {
   "cell_type": "code",
   "execution_count": 6,
   "metadata": {},
   "outputs": [
    {
     "data": {
      "text/html": [
       "<!-- the ID must be specified on the element -->\n",
       "<div id=\"container1\">\n",
       "    <h1 id=\"title10\">My Title</h1>\n",
       "</div>\n",
       "\n",
       "<!-- our javascript goe here -->\n",
       "<script>\n",
       "   // creates a new element\n",
       "   var pElement = document.createElement(\"p\")\n",
       "   pElement.innerHTML = \"some text\"\n",
       "</script>\n"
      ],
      "text/plain": [
       "<IPython.core.display.HTML object>"
      ]
     },
     "metadata": {},
     "output_type": "display_data"
    }
   ],
   "source": [
    "%%html\n",
    "<!-- the ID must be specified on the element -->\n",
    "<div id=\"container1\">\n",
    "    <h1 id=\"title10\">My Title</h1>\n",
    "</div>\n",
    "\n",
    "<!-- our javascript goe here -->\n",
    "<script>\n",
    "   // creates a new element\n",
    "   var pElement = document.createElement(\"p\")\n",
    "   pElement.innerHTML = \"some text\"\n",
    "</script>"
   ]
  },
  {
   "cell_type": "markdown",
   "metadata": {},
   "source": [
    "# Issue!\n",
    "- We don't see the element\n",
    "- Here is a visualization of what is happening => the \"p\" is not placed inside the page!\n",
    "![visual on p tag floating]({{ site.baseurl }}/images/dom-visual-1.png)\n"
   ]
  },
  {
   "cell_type": "markdown",
   "metadata": {},
   "source": [
    "# Solution\n",
    "- We need to place the element somewhere\n",
    "- For example, we could add the element to the div\n",
    "   - For this, we use the appendChild function on the div object (the parameter would be the p element we created)\n",
    "   - Remember, we can use getELementById to get the object for something in the html (the div!)\n",
    "- Updated Diagram\n",
    "![visual on p tag in div]({{ site.baseurl }}/images/dom-visual-2.png)"
   ]
  },
  {
   "cell_type": "code",
   "execution_count": 7,
   "metadata": {},
   "outputs": [
    {
     "data": {
      "text/html": [
       "<!-- the ID must be specified on the element -->\n",
       "<div id=\"container2\">\n",
       "    <h1 id=\"title11\">My Title</h1>\n",
       "</div>\n",
       "\n",
       "<!-- our javascript goe here -->\n",
       "<script>\n",
       "   // creates a new element\n",
       "   var pElement = document.createElement(\"p\")\n",
       "   pElement.innerHTML = \"some text\"\n",
       "\n",
       "   // place the p element in the webpage\n",
       "   var div = document.getElementById(\"container2\")\n",
       "   div.appendChild(pElement)\n",
       "</script>\n"
      ],
      "text/plain": [
       "<IPython.core.display.HTML object>"
      ]
     },
     "metadata": {},
     "output_type": "display_data"
    }
   ],
   "source": [
    "%%html\n",
    "<!-- the ID must be specified on the element -->\n",
    "<div id=\"container2\">\n",
    "    <h1 id=\"title11\">My Title</h1>\n",
    "</div>\n",
    "\n",
    "<!-- our javascript goe here -->\n",
    "<script>\n",
    "   // creates a new element\n",
    "   var pElement = document.createElement(\"p\")\n",
    "   pElement.innerHTML = \"some text\"\n",
    "\n",
    "   // place the p element in the webpage\n",
    "   var div = document.getElementById(\"container2\")\n",
    "   div.appendChild(pElement)\n",
    "</script>"
   ]
  },
  {
   "cell_type": "markdown",
   "metadata": {},
   "source": [
    "# Creeating functions\n",
    "- We were using functions for a lot of this functionality, but how can we create our own?\n",
    "- Useful to avoid writing the same code over and over again\n",
    "- We define parameters (they effectively become variables), and return \"output\" of the function\n",
    "  - ie. getStudent(name); parameters = name; returns the actual student\n",
    "- See the example below"
   ]
  },
  {
   "cell_type": "code",
   "execution_count": 2,
   "metadata": {},
   "outputs": [
    {
     "data": {
      "text/html": [
       "<!-- the ID must be specified on the element -->\n",
       "<div id=\"container5\">\n",
       "    <h1 id=\"title15\">My Title</h1>\n",
       "</div>\n",
       "\n",
       "<!-- our javascript goe here -->\n",
       "<script>\n",
       "    // create a function => takes in text, returns created p\n",
       "    function createPTag(text) {\n",
       "        // creates a new element\n",
       "        var pElement = document.createElement(\"p\")\n",
       "\n",
       "        // using the parameter like a variable\n",
       "        pElement.innerHTML = text\n",
       "\n",
       "        return pElement;\n",
       "    }\n",
       "\n",
       "    // using our new function\n",
       "    var pTag = createPTag(\"cooler text\")\n",
       "\n",
       "    // place the p element in the webpage\n",
       "    var div = document.getElementById(\"container5\")\n",
       "    div.appendChild(pTag)\n",
       "</script>\n"
      ],
      "text/plain": [
       "<IPython.core.display.HTML object>"
      ]
     },
     "metadata": {},
     "output_type": "display_data"
    }
   ],
   "source": [
    "%%html\n",
    "<!-- the ID must be specified on the element -->\n",
    "<div id=\"container5\">\n",
    "    <h1 id=\"title15\">My Title</h1>\n",
    "</div>\n",
    "\n",
    "<!-- our javascript goe here -->\n",
    "<script>\n",
    "    // create a function => takes in text, returns created p\n",
    "    function createPTag(text) {\n",
    "        // creates a new element\n",
    "        var pElement = document.createElement(\"p\")\n",
    "\n",
    "        // using the parameter like a variable\n",
    "        pElement.innerHTML = text\n",
    "\n",
    "        return pElement;\n",
    "    }\n",
    "\n",
    "    // using our new function\n",
    "    var pTag = createPTag(\"cooler text\")\n",
    "\n",
    "    // place the p element in the webpage\n",
    "    var div = document.getElementById(\"container5\")\n",
    "    div.appendChild(pTag)\n",
    "</script>"
   ]
  },
  {
   "cell_type": "markdown",
   "metadata": {},
   "source": [
    "# Reactivity\n",
    "- We can run functions when an event happens\n",
    "   - In this case, we will add the p tag when the button is clicked"
   ]
  },
  {
   "cell_type": "code",
   "execution_count": 5,
   "metadata": {},
   "outputs": [
    {
     "data": {
      "text/html": [
       "<!-- the ID must be specified on the elements -->\n",
       "<button id=\"myButton\">Click here!</button>\n",
       "\n",
       "<div id=\"myContainer\">\n",
       "    <h1 id=\"myTitle\">My Title</h1>\n",
       "</div>\n",
       "\n",
       "<!-- our javascript goe here -->\n",
       "<script>\n",
       "    // create a function => takes in text, returns created p\n",
       "    function createPTag(text) {\n",
       "        // creates a new element\n",
       "        var pElement = document.createElement(\"p\")\n",
       "\n",
       "        // using the parameter like a variable\n",
       "        pElement.innerHTML = text\n",
       "\n",
       "        return pElement;\n",
       "    }\n",
       "\n",
       "    // create a function that sets specific text and adds to div\n",
       "    function addCoolPTag() {\n",
       "        // using our new function\n",
       "        var pTag = createPTag(\"cooler text\")\n",
       "\n",
       "        // place the p element in the webpage\n",
       "        var div = document.getElementById(\"myContainer\")\n",
       "\n",
       "        // add p tag to the div\n",
       "        div.appendChild(pTag)\n",
       "    }\n",
       "\n",
       "    // add the P tag when our button is clicked\n",
       "    var myButton = document.getElementById(\"myButton\")\n",
       "\n",
       "    // using the onclick variable of the button\n",
       "    // functions can be used as values for these variables\n",
       "    myButton.onclick = addCoolPTag\n",
       "</script>\n"
      ],
      "text/plain": [
       "<IPython.core.display.HTML object>"
      ]
     },
     "metadata": {},
     "output_type": "display_data"
    }
   ],
   "source": [
    "%%html\n",
    "<!-- the ID must be specified on the elements -->\n",
    "<button id=\"myButton\">Click here!</button>\n",
    "\n",
    "<div id=\"myContainer\">\n",
    "    <h1 id=\"myTitle\">My Title</h1>\n",
    "</div>\n",
    "\n",
    "<!-- our javascript goe here -->\n",
    "<script>\n",
    "    // create a function => takes in text, returns created p\n",
    "    function createPTag(text) {\n",
    "        // creates a new element\n",
    "        var pElement = document.createElement(\"p\")\n",
    "\n",
    "        // using the parameter like a variable\n",
    "        pElement.innerHTML = text\n",
    "\n",
    "        return pElement;\n",
    "    }\n",
    "\n",
    "    // create a function that sets specific text and adds to div\n",
    "    function addCoolPTag() {\n",
    "        // using our new function\n",
    "        var pTag = createPTag(\"cooler text\")\n",
    "\n",
    "        // place the p element in the webpage\n",
    "        var div = document.getElementById(\"myContainer\")\n",
    "\n",
    "        // add p tag to the div\n",
    "        div.appendChild(pTag)\n",
    "    }\n",
    "\n",
    "    // add the P tag when our button is clicked\n",
    "    var myButton = document.getElementById(\"myButton\")\n",
    "\n",
    "    // using the onclick variable of the button\n",
    "    // functions can be used as values for these variables\n",
    "    myButton.onclick = addCoolPTag\n",
    "</script>"
   ]
  }
 ],
 "metadata": {
  "kernelspec": {
   "display_name": "Python 3",
   "language": "python",
   "name": "python3"
  },
  "language_info": {
   "codemirror_mode": {
    "name": "ipython",
    "version": 3
   },
   "file_extension": ".py",
   "mimetype": "text/x-python",
   "name": "python",
   "nbconvert_exporter": "python",
   "pygments_lexer": "ipython3",
   "version": "3.9.12"
  },
  "orig_nbformat": 4
 },
 "nbformat": 4,
 "nbformat_minor": 2
}
