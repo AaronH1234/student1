{
 "cells": [
  {
   "cell_type": "markdown",
   "metadata": {},
   "source": [
    "---\n",
    "toc: true\n",
    "comments: false\n",
    "layout: post\n",
    "title: Bash interaction\n",
    "type: hacks\n",
    "courses: { compsci: {week: 3} }\n",
    "---"
   ]
  },
  {
   "cell_type": "code",
   "execution_count": 3,
   "metadata": {},
   "outputs": [
    {
     "name": "stdout",
     "output_type": "stream",
     "text": [
      "Hello! What's your name?\n",
      "Hello, ! Nice to meet you.\n"
     ]
    }
   ],
   "source": [
    "%%bash\n",
    "\n",
    "# This is a simple Bash script that greets the user.\n",
    "\n",
    "# Prompt the user for their name\n",
    "\n",
    "echo \"Hello! What's your name?\"\n",
    "\n",
    "# Read the user's input into a variable\n",
    "read user_name\n",
    "\n",
    "# Greet the user using the saved variable\n",
    "\n",
    "echo \"Hello, $user_name! Nice to meet you.\""
   ]
  }
 ],
 "metadata": {
  "kernelspec": {
   "display_name": "Python 3",
   "language": "python",
   "name": "python3"
  },
  "language_info": {
   "codemirror_mode": {
    "name": "ipython",
    "version": 3
   },
   "file_extension": ".py",
   "mimetype": "text/x-python",
   "name": "python",
   "nbconvert_exporter": "python",
   "pygments_lexer": "ipython3",
   "version": "3.10.12"
  },
  "orig_nbformat": 4
 },
 "nbformat": 4,
 "nbformat_minor": 2
}
