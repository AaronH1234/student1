{
 "cells": [
  {
   "cell_type": "raw",
   "metadata": {},
   "source": [
    "---\n",
    "toc: true\n",
    "comments: false\n",
    "layout: post\n",
    "title: JS interaction\n",
    "type: hacks\n",
    "courses: { compsci: {week: 3} }\n",
    "---"
   ]
  },
  {
   "cell_type": "code",
   "execution_count": 26,
   "metadata": {
    "vscode": {
     "languageId": "html"
    }
   },
   "outputs": [
    {
     "data": {
      "application/javascript": "// Prompt the user for input and store it in a variable\nvar userInput = prompt(\"Enter something:\");\n// Display the user's input\nif (userInput !== null) {\n    console.log(\"You entered: \" + userInput);\n} else {\n    console.log(\"No input provided.\");\n}\n",
      "text/plain": [
       "<IPython.core.display.Javascript object>"
      ]
     },
     "metadata": {},
     "output_type": "display_data"
    }
   ],
   "source": [
    "<!DOCTYPE html>\n",
    "<html>\n",
    "<head>\n",
    "    <title>Guess the Number Game</title>\n",
    "    <link rel=\"stylesheet\" type=\"text/css\" href=\"style.css\">\n",
    "</head>\n",
    "<body>\n",
    "    <h1>Guess the Number Game</h1>\n",
    "    <p>Guess a number between 1 and 100:</p>\n",
    "    <input type=\"text\" id=\"guessField\">\n",
    "    <input type=\"submit\" value=\"Submit Guess\" class=\"guessSubmit\">\n",
    "    <p class=\"message\"></p>\n",
    "\n",
    "    <script src=\"script.js\"></script>\n",
    "</body>\n",
    "</html>"
   ]
  }
 ],
 "metadata": {
  "kernelspec": {
   "display_name": "Python 3",
   "language": "python",
   "name": "python3"
  },
  "language_info": {
   "codemirror_mode": {
    "name": "ipython",
    "version": 3
   },
   "file_extension": ".py",
   "mimetype": "text/x-python",
   "name": "python",
   "nbconvert_exporter": "python",
   "pygments_lexer": "ipython3",
   "version": "3.10.12"
  },
  "orig_nbformat": 4
 },
 "nbformat": 4,
 "nbformat_minor": 2
}
