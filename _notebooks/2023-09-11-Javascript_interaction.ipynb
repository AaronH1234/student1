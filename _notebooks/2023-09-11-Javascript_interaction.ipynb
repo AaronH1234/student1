{
 "cells": [
  {
   "cell_type": "raw",
   "metadata": {},
   "source": [
    "---\n",
    "toc: true\n",
    "comments: false\n",
    "layout: post\n",
    "title: 2048 game\n",
    "type: hacks\n",
    "courses: { compsci: {week: 3} }\n",
    "---"
   ]
  },
  {
   "cell_type": "code",
   "execution_count": 25,
   "metadata": {
    "vscode": {
     "languageId": "javascript"
    }
   },
   "outputs": [
    {
     "data": {
      "application/javascript": "\nwindow.onload = function() {\n    buildGridOverlay();                      //Generates grid-overlay\n    cellCreator(2, 0);\n    directions();\n    score(0);\n  };\n  \n  \n  /* GENERATE GRID */\n  function buildGridOverlay() {\n    var game    = document.getElementsByClassName('game');  \n    var grid    = document.getElementsByClassName('grid');\n    var size    = 4;\n    var table   = document.createElement('DIV');\n  \n    table.className += 'grid';\n    table.id = ' ';\n    table.dataset.value = 0;\n    \n    for (var i = 0; i < size; i++) {\n      var tr = document.createElement('DIV');\n      table.appendChild(tr);\n      tr.id = 'row_' + (i+1);\n      tr.className += 'grid_row';\n      \n      for (var j = 0; j < size; j++) {\n        var td = document.createElement('DIV');\n        td.id = '' +(i+1) +(j+1);                            //ID with x y\n        td.className += 'grid_cell';\n        tr.appendChild(td);\n      }\n    document.body.appendChild(table);\n    }\n    \n    return table;\n  }\n  \n  \n  \n  /* RANDOM TILE CREATOR */\n  function cellCreator(c, timeOut) {\n    /* do 2 times for 2 new tiles */\n    for (var i = 0; i < c; i++) {\n      \n      var count = 0;\n      /* search for an empty cell to create a tile */\n      \n      for (var value = 1; value < 2; value++) {\n        var randomX = Math.floor((Math.random()*4)+1);\n        var randomY = Math.floor((Math.random()*4)+1);\n        var checker = document.getElementById('' +randomX +randomY);\n        if (checker.innerHTML != '') {\n          value = 0;\n        } \n      }\n      \n      var randomValue = Math.floor((Math.random()*4) +1); //create value 1, 2, 3 or 4\n      if (randomValue == 3) {randomValue=4};              //3 --> 4\n      if (randomValue == 1) {randomValue=2};              //1 --> 2\n      var position = document.getElementById(''+randomX +randomY);\n      var tile = document.createElement('DIV');           //create div at x, y\n      position.appendChild(tile);                         //tile becomes child of grid cell\n      tile.innerHTML = ''+randomValue;                    //tile gets value 2 or 4\n      \n      colorSet(randomValue, tile);\n      tile.data = ''+randomValue;\n      tile.id = 'tile_'+randomX +randomY;\n      position.className += ' active';\n      var tileValue = tile.dataset.value;\n      tile.dataset.value = ''+randomValue;\n      \n      console.info(''+timeOut);\n      if (timeOut == 0) {\n        tile.className = 'tile '+randomValue;\n      } else { setTimeout(function() {\n          tile.className = 'tile '+randomValue;\n        }, 10); }\n      \n    }\n    \n    \n  \n  }\n  \n  /* MOVE TILES */\n  document.onkeydown = directions;\n  \n  function directions(e) {\n    e = e || window.event;\n    var d = 0;\n  // ----- KEY UP ----- //\n      if (e.keyCode == '38') {      \n        var count = 2;  \n        \n        for (var x = 2; x > 1; x--) {\n          for (var y = 1; y < 5; y++) {\n            moveTilesMain(x, y, -1, 0, 1, 0);\n            console.info(''+x +y);\n          }\n          if (x == 2) {\n            x += count;\n            count++;\n          }\n          if (count > 4) { break; }\n        }\n        cellReset();\n      }   \n        \n  // ----- KEY DOWN ----- //\n      else if (e.keyCode == '40') { // down\n        var count = -2;  \n        var test  = 1;\n        for (var x = 3; x < 4; x++) {\n          for (var y = 1; y < 5; y++) {\n            moveTilesMain(x, y, 1, 0, 4, 0);\n          }\n          if (x == 3) {\n            x += count;\n            count--;\n          }\n          if (count < -4) { break; }\n        }\n        cellReset();\n      }\n        \n  // ----- KEY LEFT ----- //      \n      \n      else if (e.keyCode == '37') { // left\n        \n        \n        var count = 2;  \n        var test  = 1;\n        for (var x = 2; x > 1; x--) {\n          for (var y = 1; y < 5; y++) {\n            moveTilesMain(y, x, 0, -1, 0, 1);\n          }\n          if (x == 2) {\n            x += count;\n            count++;\n          }\n          if (count > 4) { break; }\n        }\n        cellReset();\n      }\n    \n  // ----- KEY RIGHT ----- //\n      else if (e.keyCode == '39') { // right\n        \n        var count = -2;  \n        var noCell = 0;\n        var c = 1;\n        var d = 0;\n        \n        for (var x = 3; x < 4; x++) {\n          for (var y = 1; y < 5; y++) {\n            moveTilesMain(y, x, 0, 1, 0, 4, c, d);\n          }\n          if (x == 3) {\n            x += count;\n            count--;\n          }\n          if (count < -4) { break; }\n        }\n        cellReset();\n      }\n  \n  }\n  \n  //--------------------------------------------------------\n  \n  function moveTilesMain(x, y, X, Y, xBorder, yBorder, c, d) {      \n     \n    var tile     = document.getElementById('tile_'+x +y);\n    var checker  = document.getElementById(''+x +y);\n    var xAround  = x+X;\n    var yAround  = y+Y;\n    \n    if (xAround > 0 && xAround < 5 && yAround > 0 && yAround < 5 && checker.className == 'grid_cell active') {\n      var around = document.getElementById(''+xAround +yAround);\n      \n      //________\n        \n      if (around.className == 'grid_cell active') {\n        //catching\n        var aroundTile = document.getElementById('tile_'+xAround +yAround);\n        if (aroundTile.innerHTML == tile.innerHTML) {\n          //same\n          var value = tile.dataset.value*2;\n          aroundTile.dataset.value = ''+value;\n          aroundTile.className = 'tile '+value;\n          aroundTile.innerHTML = ''+value;\n          colorSet(value, aroundTile);\n          checker.removeChild(tile);\n          checker.className = 'grid_cell';\n          around.className  = 'grid_cell active merged';\n          document.getElementsByClassName('grid').id = 'moved';\n          document.getElementsByClassName('grid').className = 'grid '+value;\n          var grid = document.getElementById(' ');\n          var scoreValue = parseInt(grid.dataset.value);\n          var newScore = value + scoreValue;\n          \n          grid.dataset.value = newScore;\n          var score = document.getElementById('value');\n          \n          score.innerHTML = ''+newScore;\n        } \n      } else if (around.className == 'grid_cell'){\n        //not catching\n        around.appendChild(tile);\n        around.className = 'grid_cell active';\n        tile.id = 'tile_'+xAround +yAround;\n        checker.className = 'grid_cell';\n        document.getElementsByClassName('grid').id = 'moved';\n      }\n      \n      \n      //________\n    }  \n  }\n  \n  \n  //-------------------------------------------------------\n  \n  \n  function cellReset() {\n    var count = 0;\n    var a = document.getElementsByClassName('grid').id;\n    console.log(''+a);\n    \n    for (var x=1; x<5; x++) {\n      for (var y=1; y<5; y++) {\n        \n        var resetter = document.getElementById(''+x +y);\n        if (resetter.innerHTML != '') {\n          count++;\n        }\n        \n        if (resetter.innerHTML == '') {\n          resetter.className = 'grid_cell';\n        } \n        \n        if (resetter.className == 'grid_cell active merged') {\n          resetter.className = 'grid_cell active'\n        }\n      }\n    }\n    if (count == 16) {\n      document.getElementById('status').className = 'lose';\n    } else if (document.getElementsByClassName('grid').id == 'moved'){ \n      cellCreator(1, 1); \n    }\n    document.getElementsByClassName('grid').id = ' ';\n  }\n  \n  function score() {\n    \n    var grid = document.getElementById(' ');\n    var value = grid.dataset.value;\n    document.getElementById('value').innerHTML = ''+value;\n    \n  }\n  \n  \n  /* ----- STYLE ----- */\n  function colorSet(value, tile) {\n    switch(value) {\n      case 2:    tile.style.background = '#fbfced'; tile.style.color = 'black'; break;\n      case 4:    tile.style.background = '#ecefc6'; tile.style.color = 'black'; break;\n      case 8:    tile.style.background = '#ffb296'; tile.style.color = 'black'; break;\n      case 16:   tile.style.background = '#ff7373'; tile.style.color = 'black'; break;\n      case 32:   tile.style.background = '#f6546a'; tile.style.color = 'white'; break;\n      case 64:   tile.style.background = '#8b0000'; tile.style.color = 'white'; break;\n      case 128:  tile.style.background = '#794044'; tile.style.color = 'white'; \n                 tile.style.fontSize = '50px'; break;\n      case 256:  tile.style.background = '#31698a'; tile.style.color = 'white';\n                 tile.style.fontSize = '50px'; break;\n      case 512:  tile.style.background = '#297A76'; tile.style.color = 'white';\n                 tile.style.fontSize = '50px'; break;\n      case 1024: tile.style.background = '#2D8A68'; tile.style.color = 'white';\n                 tile.style.fontSize = '40px'; break;\n      case 2048: tile.style.background = '#1C9F4E'; tile.style.color = 'white'; \n                 tile.style.fontSize = '40px'; \n                 document.getElementById('status').className = 'won'; break;\n      case 4096: tile.style.background = '#468499'; tile.style.color = 'white'; \n                 tile.style.fontSize = '40px'; break;\n      case 8192: tile.style.background = '#0E2F44'; tile.style.color = 'white';\n                 tile.style.fontSize = '40px'; break;\n    }\n                      \n  }\n  \n  function info() {\n    setTimeout(function() {\n      document.getElementById('description').classList.toggle('show');\n    }, 10);  \n    \n  }\n  \n  function reset() {\n    for (var x = 1; x < 5; x++) {\n      for (var y = 1; y < 5; y++) {\n        var resetter = document.getElementById(''+x +y);\n        if (resetter.className == 'grid_cell active') {\n          var tile = document.getElementById('tile_'+x +y);\n          resetter.removeChild(tile);\n        }\n      }\n    }\n    document.getElementById('status').className = '';\n    document.getElementById(' ').dataset.value = 0;\n    score();\n    cellReset();\n    cellCreator(2, 0);\n  }\n",
      "text/plain": [
       "<IPython.core.display.Javascript object>"
      ]
     },
     "metadata": {},
     "output_type": "display_data"
    }
   ],
   "source": [
    "%%javascript\n",
    "// Prompt the user for input and store it in a variable\n",
    "var userInput = prompt(\"Enter something:\");\n",
    "// Display the user's input\n",
    "if (userInput !== null) {\n",
    "    console.log(\"You entered: \" + userInput);\n",
    "} else {\n",
    "    console.log(\"No input provided.\");\n",
    "}"
   ]
  }
 ],
 "metadata": {
  "kernelspec": {
   "display_name": "Python 3",
   "language": "python",
   "name": "python3"
  },
  "language_info": {
   "codemirror_mode": {
    "name": "ipython",
    "version": 3
   },
   "file_extension": ".py",
   "mimetype": "text/x-python",
   "name": "python",
   "nbconvert_exporter": "python",
   "pygments_lexer": "ipython3",
   "version": "3.10.12"
  },
  "orig_nbformat": 4
 },
 "nbformat": 4,
 "nbformat_minor": 2
}
