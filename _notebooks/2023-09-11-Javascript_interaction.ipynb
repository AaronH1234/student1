{
 "cells": [
  {
   "cell_type": "raw",
   "metadata": {},
   "source": [
    "---\n",
    "toc: true\n",
    "comments: false\n",
    "layout: post\n",
    "title: JS interaction\n",
    "type: hacks\n",
    "courses: { compsci: {week: 3} }\n",
    "---"
   ]
  },
  {
   "cell_type": "code",
   "execution_count": 26,
   "metadata": {
    "vscode": {
     "languageId": "javascript"
    }
   },
   "outputs": [
    {
     "data": {
      "application/javascript": "// Prompt the user for input and store it in a variable\nvar userInput = prompt(\"Enter something:\");\n// Display the user's input\nif (userInput !== null) {\n    console.log(\"You entered: \" + userInput);\n} else {\n    console.log(\"No input provided.\");\n}\n",
      "text/plain": [
       "<IPython.core.display.Javascript object>"
      ]
     },
     "metadata": {},
     "output_type": "display_data"
    }
   ],
   "source": [
    "%%javascript\n",
    "// Prompt the user for input and store it in a variable\n",
    "var userInput = prompt(\"Enter something:\");\n",
    "// Display the user's input\n",
    "if (userInput !== null) {\n",
    "    console.log(\"You entered: \" + userInput);\n",
    "} else {\n",
    "    console.log(\"No input provided.\");\n",
    "}"
   ]
  }
 ],
 "metadata": {
  "kernelspec": {
   "display_name": "Python 3",
   "language": "python",
   "name": "python3"
  },
  "language_info": {
   "codemirror_mode": {
    "name": "ipython",
    "version": 3
   },
   "file_extension": ".py",
   "mimetype": "text/x-python",
   "name": "python",
   "nbconvert_exporter": "python",
   "pygments_lexer": "ipython3",
   "version": "3.10.12"
  },
  "orig_nbformat": 4
 },
 "nbformat": 4,
 "nbformat_minor": 2
}
