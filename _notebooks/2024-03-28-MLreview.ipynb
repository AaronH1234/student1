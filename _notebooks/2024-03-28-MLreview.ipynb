{
 "cells": [
  {
   "cell_type": "markdown",
   "metadata": {},
   "source": [
    "---\n",
    "title: ML review\n",
    "toc: true\n",
    "comments: true\n",
    "layout: post\n",
    "description: GitHub Issues\n",
    "type: hacks\n",
    "courses: {compsci: {'week': 28}}\n",
    "---"
   ]
  },
  {
   "cell_type": "markdown",
   "metadata": {},
   "source": [
    "## ML review\n",
    "### Plan\n",
    "\n",
    "- Frist week: I made a titanic frontend and backend by myself, but there are a lot of issues and errors in my code, so during the weekend I try to fix the api and the model by look and teacher_profolio and other classmates' code and try to mimic my own api and model.\n",
    "\n",
    "- Second week: In the second week, I meanly working on the debuging and I made the frontend looks better. I have the frontend, api and the model done but there is a CORS error happen and the model isn't working.\n",
    "\n",
    "### My issue\n",
    "- CORS error\n",
    "\n",
    "    - I spend a lot of time fixing the CORS error. What I did to fix the error is check the fetch code from the teacher_profolio and the fetch code of others. I talked to my teammates about my issue, I changed the port and I add more options in my fetch code. I also change the CORS code at the backend and finally the CORS error isn't there.\n",
    "\n",
    "- Frontend error(some typing mistake and some small issue)\n",
    "    - In my frontend, the console show some error in my code, I communicate with my teammate and we work together to fix the frontend code.\n",
    "\n",
    "- Model issue\n",
    "    - After fixing the CORS error, I try running my webpage again, but nothing is showing so I check my backend if there is any requests get in and trying to run the model on backend. But then there are some error in my backend. I look over the teacher_profilio model and talk to my teammates about issue on model, but we are still working on fixing the error.\n",
    "\n",
    "### Main commits\n",
    "\n",
    "- Frontend: https://github.com/AaronH1234/student1/commit/4c0d73f640d5cceb38ed3231a23c844a1da48ee8\n",
    "\n",
    "- Backend: https://github.com/AaronH1234/tri3backend/commit/4869eb758d4f571a5ed8bff60d0b6d4a8e688ca2\n",
    "            "
   ]
  }
 ],
 "metadata": {
  "language_info": {
   "name": "python"
  }
 },
 "nbformat": 4,
 "nbformat_minor": 2
}
