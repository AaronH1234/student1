{
 "cells": [
  {
   "cell_type": "markdown",
   "metadata": {},
   "source": [
    "---\n",
    "toc: true\n",
    "comments: false\n",
    "layout: post\n",
    "title: Student Teaching Part 2 + Key Indicators\n",
    "type: hacks\n",
    "courses: { compsci: {week: 12} }\n",
    "---"
   ]
  },
  {
   "cell_type": "markdown",
   "metadata": {},
   "source": [
    "| -------- | Score, Grader Verification | Students Name | Extras | Key Indicators: Blog, GitHub File(s) and Key Commits |\n",
    "| -------- | ------- | -------- | -------- | -------- |\n",
    "| The Internet  | 0.93 | Aidan L | Provide few examples | https://github.com/AaronH1234/student1/commit/eb592625d599bac9ad56b0f08de876798ae36dee |\n",
    "| Beneficial and Harmful Effects | 0.92 | Tarun T | Decent explanatoins about | https://github.com/AaronH1234/student1/commit/20348c7c31cb4ea621c601646d05bedb62b73841 |\n",
    "| Digital Divide | 0.94 | Eshaan K | Detailed explain the question | https://github.com/AaronH1234/student1/commit/15762d41f51cef3d54749c102380d36151a256e4 |\n",
    "| Computing Bias | 0.98 | Isebelle P | Provide good examples and detaily explain answers | https://github.com/AaronH1234/student1/commit/7eefb03d52a5ba60b1def17590cc510b182f2451 |\n",
    "| Undecidable Problems | 0.93 | Shuban P | Explain whe questions well | https://github.com/AaronH1234/student1/commit/d2ca078196406810c9587989b755ca2c137b784f |\n",
    "| Crowdsourcing | 0.93 | Anthony Y | Provide depth idea | https://github.com/AaronH1234/student1/commit/fca8829e5b61196b3fef24c21e9c756e83f58337 |\n",
    "| Legal Ethical Concerns | 0.95 | Jayden C | 2nd place on kahoot | https://github.com/AaronH1234/student1/commit/fca8829e5b61196b3fef24c21e9c756e83f58337 |\n",
    "| Safe Computing | 0.9 | Abby A | No | This is the google form |\n",
    "| CB Quiz | 55/67 | No | No | https://aaronh1234.github.io/student1//2024/01/07/Quiz_reflection_IPYNB_2_.html |\n",
    "| Totals | Median Score: 0.98 | Number complete:8/8 | Extra effort count: 7/8 | Key tangible assets count: |"
   ]
  }
 ],
 "metadata": {
  "language_info": {
   "name": "python"
  }
 },
 "nbformat": 4,
 "nbformat_minor": 2
}
