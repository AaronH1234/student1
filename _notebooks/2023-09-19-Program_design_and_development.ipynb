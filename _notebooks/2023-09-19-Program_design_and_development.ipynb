{
 "cells": [
  {
   "cell_type": "markdown",
   "metadata": {},
   "source": [
    "---\n",
    "toc: true\n",
    "comments: false\n",
    "layout: post\n",
    "title: Program Design and Development\n",
    "type: hacks\n",
    "courses: { compsci: {week: 4} }\n",
    "---"
   ]
  },
  {
   "cell_type": "code",
   "execution_count": null,
   "metadata": {},
   "outputs": [],
   "source": [
    "# Input two numbers\n",
    "num1 = float(input(\"Enter the first number: \"))\n",
    "num2 = float(input(\"Enter the second number: \"))\n",
    "\n",
    "# Calculate the sum\n",
    "result = num1 + num2\n",
    "\n",
    "# Display the result\n",
    "print(\"The sum of\", num1, \"and\", num2, \"is:\", result)"
   ]
  },
  {
   "cell_type": "markdown",
   "metadata": {},
   "source": [
    "This is a simple calculation code using python, and now I am goind to expanded it."
   ]
  },
  {
   "cell_type": "code",
   "execution_count": null,
   "metadata": {},
   "outputs": [],
   "source": [
    "\n",
    "print(\"Welcome to calculate web!\")\n",
    "#This is a hello sentence\n",
    "while True:\n",
    "    options = \"\"\"\n",
    "            Desired operation\n",
    "            (1) add\n",
    "            (2) subtract\n",
    "            (3) multiply\n",
    "            (4) divide\n",
    "    \"\"\"\n",
    "    #I made four option to show users options\n",
    "    print(options)\n",
    "    #Print the option\n",
    "    option = int(input(\"Choice a operation: \"))\n",
    "    #Ask users which one\n",
    "    if option == 1:\n",
    "        num1 = int(input(\"Enter first number: \"))\n",
    "        num2 = int(input(\"Enter second number: \"))\n",
    "        add = int(num1) + int(num2)\n",
    "        print(f\"The result is {add}\")\n",
    "    #This if block is when user choose option 1 and I ask users two number they want and add it then I print it\n",
    "    elif option == 2:\n",
    "        num1 = int(input(\"Enter first number: \"))\n",
    "        num2 = int(input(\"Enter second number: \"))\n",
    "        subtract = int(num1) - int(num2)\n",
    "        print(f\"The result is {subtract}\")\n",
    "    #This elif block is when user choose option 2 and I ask users two number they want and subtract it then I print it\n",
    "    elif option == 3:\n",
    "        num1 = int(input(\"Enter first number: \"))\n",
    "        num2 = int(input(\"Enter second number: \"))\n",
    "        multiply = int(num1) * int(num2)\n",
    "        print(f\"The result is {multiply}\")\n",
    "    #This elif block is when user choose option 3 and I ask users two number they want and multiply it then I print it\n",
    "    elif option == 4:\n",
    "        num1 = int(input(\"Enter first number: \"))\n",
    "        num2 = int(input(\"Enter second number: \"))\n",
    "        divide = int(num1) / int(num2)\n",
    "        print(f\"The result is {divide}\")\\\n",
    "    #This elif block is when user choose option 4 and I ask users two number they want and divide it then I print it\n",
    "    keep_calculate = input(\"Would you like to perform another calculation? (y/n) \")\n",
    "    if keep_calculate != \"y\":\n",
    "        break\n",
    "    #I ask users if they want to keep going or not, if their answer isn't \"y\" then program stop"
   ]
  }
 ],
 "metadata": {
  "kernelspec": {
   "display_name": "Python 3",
   "language": "python",
   "name": "python3"
  },
  "language_info": {
   "codemirror_mode": {
    "name": "ipython",
    "version": 3
   },
   "file_extension": ".py",
   "mimetype": "text/x-python",
   "name": "python",
   "nbconvert_exporter": "python",
   "pygments_lexer": "ipython3",
   "version": "3.10.12"
  },
  "orig_nbformat": 4
 },
 "nbformat": 4,
 "nbformat_minor": 2
}
