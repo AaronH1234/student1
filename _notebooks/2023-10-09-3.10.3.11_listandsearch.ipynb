{
 "cells": [
  {
   "cell_type": "markdown",
   "metadata": {},
   "source": [
    "---\n",
    "comments: True\n",
    "layout: post\n",
    "title: 3.10-3.11 List and Search\n",
    "description: Team Teach for Period 5\n",
    "author: Aaron, Eshaan, Ninaad, Brandon\n",
    "type: hacks\n",
    "courses: {'csp': {'week': 9}}\n",
    "---"
   ]
  },
  {
   "cell_type": "code",
   "execution_count": null,
   "metadata": {},
   "outputs": [],
   "source": [
    "# College Board Pseudo Code\n",
    "aList ← [1, 2, 3, 4]\n",
    "\n",
    "APPEND (aList, 5)\n",
    "\n",
    "For i IN RANGE LENGTH(aList)\n",
    "    x ← aList[i]\n",
    "    DISPLAY(i)\n",
    "\n",
    "REMOVE (aList, i)\n",
    "\n",
    "INSERT (aList, i, value)\n",
    "#There is no equivalent in python\n"
   ]
  },
  {
   "cell_type": "code",
   "execution_count": 5,
   "metadata": {},
   "outputs": [
    {
     "name": "stdout",
     "output_type": "stream",
     "text": [
      "0\n",
      "1\n",
      "2\n",
      "3\n",
      "4\n"
     ]
    }
   ],
   "source": [
    "# Python code\n",
    "aList = [1, 2, 3, 4]\n",
    "\n",
    "aList.append(5)\n",
    "\n",
    "for i in range(len(aList)):\n",
    "    x = aList[i]\n",
    "    print(i)\n",
    "    \n",
    "del aList[3]\n"
   ]
  }
 ],
 "metadata": {
  "kernelspec": {
   "display_name": "Python 3",
   "language": "python",
   "name": "python3"
  },
  "language_info": {
   "codemirror_mode": {
    "name": "ipython",
    "version": 3
   },
   "file_extension": ".py",
   "mimetype": "text/x-python",
   "name": "python",
   "nbconvert_exporter": "python",
   "pygments_lexer": "ipython3",
   "version": "3.10.12"
  }
 },
 "nbformat": 4,
 "nbformat_minor": 2
}
