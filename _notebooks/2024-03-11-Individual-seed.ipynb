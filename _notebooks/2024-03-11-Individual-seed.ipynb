{
 "cells": [
  {
   "cell_type": "markdown",
   "metadata": {},
   "source": [
    "---\n",
    "title: Seeds individual\n",
    "toc: true\n",
    "comments: false\n",
    "layout: post\n",
    "description: GitHub Issues\n",
    "type: hacks\n",
    "courses: {compsci: {'week': 25}}\n",
    "---"
   ]
  },
  {
   "cell_type": "markdown",
   "metadata": {},
   "source": [
    "Individual Seeds\n",
    "- Grade last Tri\n",
    "<iframe src=\"https://drive.google.com/file/d/1qTTIhi60i_QHjVE8c0ZYmKjUZGyvk1iJ/preview\" width=\"640\" height=\"480\" allow=\"autoplay\"></iframe>\n",
    "\n",
    "1. Team teach\n",
    "\n",
    "    The is a link that links to all key commits for cpt: https://aaronh1234.github.io/student1//2024/01/11/Student-Teaching-Part2+Key-Indicators_IPYNB_2_.html\n",
    "\n",
    "2. CPT Key ccommits\n",
    "\n",
    "- In this cpt project I work on the table of content and the food chart. After users finish login, the Table of content will come out. Table of content is a really simple and useful, it links to every place in our project like the food chart and the comments.\n",
    "    - Key commit: https://github.com/AaronH1234/cptproject/commit/00b53240963511f9fa187352b4e8a4a01dd6ecdc\n",
    "\n",
    "    <img src = \"https://i.ibb.co/FB4rvvX/image.png\">\n",
    "\n",
    "- The second thing I work on, which is the main point of our project is the food chart. For this food chart, you will need to click the + button in the middle, then 8 buttons will come out arround the button at the middle. Each button represent a chinese cuisine, you can click on any button and it will bring you to a different cuisine. In the cuisine, we talk about the feature of the cuisine and some represent foods and some restaurants that is in the San Diego. \n",
    "    - Key commit: https://github.com/AaronH1234/cptproject/commit/760a94985aacaeb040faa507caa51317c70385be\n",
    "\n",
    "    <img src = \"https://i.ibb.co/6J7DnKM/image.png\" >\n",
    "\n",
    "- I also talk about most of the cuisines, I give discription, features, some represent food, and some restaurants about different cuisines.\n",
    "    - key commit: https://github.com/AaronH1234/cptproject/commit/34aab543db54cee747d0e53757d8e3639330f3fd, https://github.com/AaronH1234/cptproject/commit/a791feaec76297e22c94dbdb022c12a8cbc737da, https://github.com/AaronH1234/cptproject/commit/be5e4447066610affd8f1c59628aeda112d28b2d, https://github.com/AaronH1234/cptproject/commit/6a8a31b5f1cc592d3eb90cafcf61b4055de3c102, https://github.com/AaronH1234/cptproject/commit/187691cad4470b1b6fc62fd1d62bbd8ced0dbf30\n",
    "\n",
    "    <img src = \"https://i.ibb.co/7ydjd9J/image.png\" >\n",
    "\n",
    "3. Stuff we did in class\n",
    "\n",
    "    https://rliao569.github.io/Tri2Repo/blog\n",
    "\n",
    "4. TEAM CONTRIBUTIONS\n",
    "- For the signup and login, I get my signup work during the spot check 1, so in this project, I put the code for signup into our project but it isn't showing up at the backend. After that, Ryan help and do another new signup and login page that is working.\n",
    "- When I do the food chart, I have a problem that the 8 button can come out correct, thene I communicate with Jason and debug it."
   ]
  }
 ],
 "metadata": {
  "language_info": {
   "name": "python"
  }
 },
 "nbformat": 4,
 "nbformat_minor": 2
}
