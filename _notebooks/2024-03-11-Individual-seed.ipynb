{
 "cells": [
  {
   "cell_type": "markdown",
   "metadata": {},
   "source": [
    "---\n",
    "title: Seeds individual\n",
    "toc: true\n",
    "comments: false\n",
    "layout: post\n",
    "description: GitHub Issues\n",
    "type: hacks\n",
    "courses: {compsci: {'week': 25}}\n",
    "---"
   ]
  },
  {
   "cell_type": "markdown",
   "metadata": {},
   "source": [
    "1. Team teach\n",
    "\n",
    "    The is a link that links to all key commits for cpt: https://aaronh1234.github.io/student1//2024/01/11/Student-Teaching-Part2+Key-Indicators_IPYNB_2_.html\n",
    "\n",
    "2. CPT Key ccommits\n",
    "\n",
    "    Table of content: https://github.com/AaronH1234/cptproject/commit/00b53240963511f9fa187352b4e8a4a01dd6ecdc\n",
    "    \n",
    "    Main feature \"Food Chart\": https://github.com/AaronH1234/cptproject/commit/760a94985aacaeb040faa507caa51317c70385be\n",
    "\n",
    "3. Stuff we did in class\n",
    "\n",
    "    https://rliao569.github.io/Tri2Repo/blog"
   ]
  }
 ],
 "metadata": {
  "language_info": {
   "name": "python"
  }
 },
 "nbformat": 4,
 "nbformat_minor": 2
}
