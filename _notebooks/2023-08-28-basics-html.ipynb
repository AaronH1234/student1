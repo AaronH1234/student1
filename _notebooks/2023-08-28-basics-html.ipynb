{
 "cells": [
  {
   "cell_type": "markdown",
   "metadata": {},
   "source": [
    "---\n",
    "layout: post\n",
    "hide: True\n",
    "title: Basics of HTML Guide\n",
    "description: An introduction to basic HTML, and resources to learn more.\n",
    "type: hacks\n",
    "courses: { compsci: {week: 5} }\n",
    "permalink: /basics/html\n",
    "author: Rohan Juneja\n",
    "---"
   ]
  },
  {
   "cell_type": "raw",
   "metadata": {},
   "source": [
    "\n"
   ]
  },
  {
   "cell_type": "markdown",
   "metadata": {},
   "source": [
    "\n",
    "# How does HTML work?\n",
    "- Similar function to Markdown, identifies how stuff should be displayed\n",
    "- HTML is based on tags `<tagname>content</tagname>`\n",
    "  - Note the \"/\" on the ending tag\n",
    "- See a markdown to html example below"
   ]
  },
  {
   "cell_type": "markdown",
   "metadata": {},
   "source": [
    "Markdown\n",
    "```md\n",
    "# This is a title\n",
    "```\n",
    "HTML\n",
    "```html\n",
    "<h1>This is a title</h1>\n",
    "```"
   ]
  },
  {
   "cell_type": "markdown",
   "metadata": {},
   "source": [
    "# Attributes\n",
    "- Tags can have additional info in attributes\n",
    "- Attributes are in the following format below\n",
    "\n",
    "```html\n",
    "<tagname attribute_name=\"attribute_value\" another_attribute=\"another_value\"></tagname>\n",
    "```"
   ]
  },
  {
   "cell_type": "markdown",
   "metadata": {},
   "source": [
    "# Some useful tags to know that are similar to markdown\n",
    "Image Tag - Markdown\n",
    "\n",
    "```md\n",
    "![describe image](link to image)\n",
    "```\n",
    "\n",
    "Image Tag - HTML\n",
    "\n",
    "```html\n",
    "<!-- no content so no end tag, width/height is optional (in pixels) -->\n",
    "<img alt=\"describe image\" src=\"link to image\" width=\"100\" height=\"200\">\n",
    "```\n",
    "\n",
    "Link Tag - Markdown\n",
    "\n",
    "```md\n",
    "[link text](link)\n",
    "```\n",
    "\n",
    "Link Tag - HTML\n",
    "\n",
    "```html\n",
    "<a href=\"link\">link text</a>\n",
    "```\n",
    "\n",
    "Bolded Text - Markdown\n",
    "\n",
    "```md\n",
    "**Bolded Text**\n",
    "```\n",
    "\n",
    "Bolded Text - HTML\n",
    "\n",
    "```md\n",
    "<strong>Bolded Text</strong>\n",
    "```\n",
    "\n",
    "Italic Text - Markdown\n",
    "\n",
    "```md\n",
    "*Italic Text*\n",
    "```\n",
    "\n",
    "Italic Text - HTML\n",
    "\n",
    "```md\n",
    "<i>Italic Text</i>\n",
    "```"
   ]
  },
  {
   "cell_type": "markdown",
   "metadata": {},
   "source": [
    "# Some new useful tags to know (not really in markdown)\n",
    "P tag (just represeants a paragraph/normal text)\n",
    "\n",
    "```html\n",
    "<p>This is a paragraph</p>\n",
    "```\n",
    "\n",
    "Button\n",
    "\n",
    "```html\n",
    "<button>some button text</button>\n",
    "```\n",
    "\n",
    "Div (groups together related content)\n",
    "\n",
    "```html\n",
    "<!-- first information -->\n",
    "<div>\n",
    "    <!-- notice how tags can be put INSIDE eachother -->\n",
    "    <p>This is the first paragarph of section 1</p>\n",
    "    <p>This is the second paragraph of section 1</p>\n",
    "</div>\n",
    "\n",
    "<!-- second information -->\n",
    "<div>\n",
    "    <!-- notice how tags can be put INSIDE eachother -->\n",
    "    <p>This is the first paragarph of section 2</p>\n",
    "    <p>This is the second paragraph of section 2</p>\n",
    "</div>\n",
    "```\n",
    "\n"
   ]
  },
  {
   "cell_type": "markdown",
   "metadata": {},
   "source": [
    "# Resources\n",
    "- https://www.w3schools.com/html/default.asp\n",
    "- I will show a demo of how to find information on this website"
   ]
  },
  {
   "cell_type": "code",
   "execution_count": 25,
   "metadata": {
    "vscode": {
     "languageId": "html"
    }
   },
   "outputs": [
    {
     "data": {
      "text/html": [
       "<html>\n",
       "<head>\n",
       "    <style>\n",
       "        .box {\n",
       "            width: 150px;\n",
       "            height: 50px;\n",
       "            background-color: red;\n",
       "            animation-name: example;\n",
       "            animation-duration: 4s;\n",
       "            animation-iteration-count: infinite;\n",
       "            color: black;\n",
       "            position: relative;\n",
       "        }\n",
       "        @keyframes example {\n",
       "            0%   {background-color:red; left:0px; top:0px;}\n",
       "            50%  {background-color:yellow; left:200px; top:0px;}\n",
       "            100% {background-color:red; left:0px; top:0px;}\n",
       "          }\n",
       "        .p1 {\n",
       "            font-family: \"Lucida Console\", \"Courier New\", monospace;\n",
       "            text-align: center;\n",
       "            line-height: 50px;\n",
       "            font-size: 30px;\n",
       "            text-shadow: 2px 2px 5px greenyellow;\n",
       "          }\n",
       "          \n",
       "\n",
       "    </style>\n",
       "</head>\n",
       "<body>\n",
       "    <div class='p1'>\n",
       "    <div class='box'>\n",
       "    <p>Tennis</p>\n",
       "    <button type=\"button\" onclick=\"alert('Hello world!')\">Click Me!</button>\n",
       "    <p><a href=\"https://www.w3schools.com/\" target=\"_blank\">Visit W3Schools!</a></p>\n",
       "    <p><a href=\"https://www.google.com/\">Google</a></p>\n",
       "    </div>\n",
       "    </div>\n",
       "</body>\n"
      ],
      "text/plain": [
       "<IPython.core.display.HTML object>"
      ]
     },
     "metadata": {},
     "output_type": "display_data"
    }
   ],
   "source": [
    "%%html\n",
    "<html>\n",
    "<head>\n",
    "    <style>\n",
    "        .box {\n",
    "            width: 150px;\n",
    "            height: 50px;\n",
    "            background-color: red;\n",
    "            animation-name: example;\n",
    "            animation-duration: 4s;\n",
    "            animation-iteration-count: infinite;\n",
    "            color: black;\n",
    "            position: relative;\n",
    "        }\n",
    "        @keyframes example {\n",
    "            0%   {background-color:red; left:0px; top:0px;}\n",
    "            50%  {background-color:yellow; left:200px; top:0px;}\n",
    "            100% {background-color:red; left:0px; top:0px;}\n",
    "          }\n",
    "        .p1 {\n",
    "            font-family: \"Lucida Console\", \"Courier New\", monospace;\n",
    "            text-align: center;\n",
    "            line-height: 50px;\n",
    "            font-size: 30px;\n",
    "            text-shadow: 2px 2px 5px greenyellow;\n",
    "          }\n",
    "          \n",
    "\n",
    "    </style>\n",
    "</head>\n",
    "<body>\n",
    "    <div class='p1'>\n",
    "    <div class='box'>\n",
    "    <p>Tennis</p>\n",
    "    <button type=\"button\" onclick=\"alert('Hello world!')\">Click Me!</button>\n",
    "    <p><a href=\"https://www.w3schools.com/\" target=\"_blank\">Visit W3Schools!</a></p>\n",
    "    <p><a href=\"https://www.google.com/\">Google</a></p>\n",
    "    </div>\n",
    "    </div>\n",
    "</body>\n"
   ]
  }
 ],
 "metadata": {
  "kernelspec": {
   "display_name": "Python 3",
   "language": "python",
   "name": "python3"
  },
  "language_info": {
   "codemirror_mode": {
    "name": "ipython",
    "version": 3
   },
   "file_extension": ".py",
   "mimetype": "text/x-python",
   "name": "python",
   "nbconvert_exporter": "python",
   "pygments_lexer": "ipython3",
   "version": "3.10.12"
  },
  "orig_nbformat": 4
 },
 "nbformat": 4,
 "nbformat_minor": 2
}
