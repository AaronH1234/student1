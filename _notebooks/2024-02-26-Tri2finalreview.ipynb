{
 "cells": [
  {
   "cell_type": "markdown",
   "metadata": {},
   "source": [
    "---\n",
    "title: Tri 2 Final review\n",
    "toc: true\n",
    "comments: false\n",
    "layout: post\n",
    "description: GitHub Issues\n",
    "type: tangibles\n",
    "courses: {compsci: {'week': 12}}\n",
    "---"
   ]
  },
  {
   "cell_type": "markdown",
   "metadata": {},
   "source": [
    "## Our project\n",
    "<img src = \"https://i.ibb.co/swbZ54r/Food-Finder-Cover-FINAL.png\">\n",
    "\n",
    "For our project, we did a chinese food finder. The purpose of our project is to let people understand more about chinese food and we can give some suggestions about restaurants that is good for them. \n",
    "\n",
    "### Elements\n",
    "- User signup\n",
    "- User login\n",
    "- table of content\n",
    "- Food Chart\n",
    "- Comments\n",
    "- Food Finder(in progress)"
   ]
  },
  {
   "cell_type": "markdown",
   "metadata": {},
   "source": [
    "## What did I do?\n",
    "- In this cpt project I work on the table of content and the food chart. After users finish login, the Table of content will come out. Table of content is a really simple and useful, it links to every place in our project like the food chart and the comments.\n",
    "    - Key commit: https://github.com/AaronH1234/cptproject/commit/00b53240963511f9fa187352b4e8a4a01dd6ecdc\n",
    "- The second thing I work on, which is the main point of our project is the food chart. For this food chart, you will need to click the + button in the middle, then 8 buttons will come out arround the button at the middle. Each button represent a chinese cuisine, you can click on any button and it will bring you to a different cuisine. In the cuisine, we talk about the feature of the cuisine and some represent foods and some restaurants that is in the San Diego. \n",
    "    - Key commit: https://github.com/AaronH1234/cptproject/commit/760a94985aacaeb040faa507caa51317c70385be"
   ]
  },
  {
   "cell_type": "markdown",
   "metadata": {},
   "source": [
    "## TEAM CONTRIBUTIONS\n",
    "- For the signup and login, I get my signup work during the spot check 1, so in this project, I put the code for signup into our project but it isn't showing up at the backend. After that, Ryan help and do another new signup and login page that is working.\n",
    "- When I do the food chart, I have a problem that the 8 button can come out correct, thene I communicate with Jason and debug it."
   ]
  },
  {
   "cell_type": "markdown",
   "metadata": {},
   "source": [
    "## PROJECT MATCHING CPT REQUIREMENTS\n",
    "Instructions for input from one of the following: the user, a device, an online data stream, a file.\n",
    "- In our project for user login, we require JWT tokens and credentials.\n",
    "\n",
    "Use of at least one list (or other collection type) to represent a collection of data that is stored and used to manage program complexity and help fulfill the users purpose.\n",
    "- We use SQLite tables to store and manage data about users and comments.\n",
    "\n",
    "At least one procedure that contributed to the program’s intended purpose where you have defined: the name, return type, one or more parameters.\n",
    "- We have procedures for user authentication and authorization which take JWT tokens and user credentials\n",
    "\n",
    "An algorithm that includes sequencing, selection, and iteration that is in the body of the selected procedure.\n",
    "- We use if function in the user login to diteremine if the password is right or not\n",
    "\n",
    "<img src = \"https://i.ibb.co/0JdSgF9/image.png\">\n",
    "\n",
    "Calls to your student-developed procedure.\n",
    "- Our procedures for user management and comment management are called throughout the application.\n",
    "\n",
    "Instructions for output (tactile, audible, visual, or ) based on input and program functionality.\n",
    "- Login redirects users, keep the comments publish by user."
   ]
  }
 ],
 "metadata": {
  "language_info": {
   "name": "python"
  }
 },
 "nbformat": 4,
 "nbformat_minor": 2
}
