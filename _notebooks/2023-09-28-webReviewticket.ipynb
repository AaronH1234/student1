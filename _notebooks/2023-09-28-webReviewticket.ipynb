{
 "cells": [
  {
   "cell_type": "markdown",
   "metadata": {},
   "source": [
    "---\n",
    "toc: True\n",
    "comments: False\n",
    "layout: post\n",
    "title: Review Ticket week 5\n",
    "type: hacks\n",
    "courses: {'compsci': {'week': 5}}\n",
    "---"
   ]
  },
  {
   "cell_type": "markdown",
   "metadata": {},
   "source": [
    "## Collaboration\n",
    "    - I reviewed myself before and after changes from my peer reviews. Before I gave myself a 3.30/4 and afterwards I gave myself a 3.8/4\n",
    "    - I was reviewed by Kaiyu and he gave me utterance comments on what I did well and what to fix.  He gave me an overall 3.47/4\n",
    "    - My team members reviewed me and gave me utterance comments on what I did well and what to fix. They gave me an overall 3.56/4\n",
    "    - Me and my team used slack to communicate and hold each other accountable to deadlines outside of class\n",
    "\n",
    "## Tool Use\n",
    "    - GitHub to organize our files\n",
    "    - GitHub Issues to organize our peer review suggestions\n",
    "    - Utterances was used to organize my peer reviews into GitHub Issues\n",
    "    - VSCode was used to commit and test locally with make, and also to push our commits to GitHub\n",
    "    - Jupyter Notebooks were used to organize our code with our notes\n",
    "    \n"
   ]
  }
 ],
 "metadata": {
  "language_info": {
   "name": "python"
  },
  "orig_nbformat": 4
 },
 "nbformat": 4,
 "nbformat_minor": 2
}
