{
 "cells": [
  {
   "cell_type": "markdown",
   "metadata": {},
   "source": [
    "---\n",
    "comments: true\n",
    "layout: post\n",
    "title: Python Quiz\n",
    "description: This is a python quiz. There are some information about python.\n",
    "type: hacks\n",
    "courses: { csse: {week: 0}, csp: {week: 0}, csa: {week: 0} }\n",
    "categories: [C4.1]\n",
    "---"
   ]
  },
  {
   "cell_type": "markdown",
   "metadata": {},
   "source": [
    "Answer the question below."
   ]
  },
  {
   "cell_type": "code",
   "execution_count": 1,
   "metadata": {},
   "outputs": [
    {
     "name": "stdout",
     "output_type": "stream",
     "text": [
      "Hello, aaron running /bin/python\n",
      "You will be asked 3 questions.\n",
      "Question: In Python, the ______ function is used to display output to the console or terminal. \n",
      " is incorrect!\n",
      "Question: In Python, the term _____ refers to the process of creating or declaring a variable, function, class, or other named entities in the program.\n",
      " is correct!\n",
      "Question: In Python, _____ is a built-in function that is used to take user input from the console or terminal.\n",
      " is incorrect!\n",
      "aaron you scored 1/3\n"
     ]
    }
   ],
   "source": [
    "import getpass, sys\n",
    "\n",
    "def question_with_response(prompt):\n",
    "    print(\"Question: \" + prompt)\n",
    "    msg = input()\n",
    "    return msg\n",
    "def question_and_answer(prompt):\n",
    "    print(prompt)\n",
    "    msg1 = input()\n",
    "    return msg1\n",
    "\n",
    "questions = 3\n",
    "correct = 0\n",
    "\n",
    "print('Hello, ' + getpass.getuser() + \" running \" + sys.executable)\n",
    "print(\"You will be asked \" + str(questions) + \" questions.\")\n",
    "question_and_answer = input(\"Are you ready to take a test?\")\n",
    "\n",
    "rsp = question_with_response(\"In Python, the ______ function is used to display output to the console or terminal. \")\n",
    "if rsp == \"print\":\n",
    "    print(rsp + \" is correct!\")\n",
    "    correct += 1\n",
    "else:\n",
    "    print(rsp + \" is incorrect!\")\n",
    "\n",
    "rsp = question_with_response(\"In Python, the term _____ refers to the process of creating or declaring a variable, function, class, or other named entities in the program.\")\n",
    "if rsp == \"def\" or \"defiend\":\n",
    "    print(rsp + \" is correct!\")\n",
    "    correct += 1\n",
    "else:\n",
    "    print(rsp + \" is incorrect!\")\n",
    "\n",
    "rsp = question_with_response(\"In Python, _____ is a built-in function that is used to take user input from the console or terminal.\")\n",
    "if rsp == \"input\":\n",
    "    print(rsp + \" is correct!\")\n",
    "    correct += 1\n",
    "else:\n",
    "    print(rsp + \" is incorrect!\")\n",
    "\n",
    "print(getpass.getuser() + \" you scored \" + str(correct) +\"/\" + str(questions))"
   ]
  }
 ],
 "metadata": {
  "kernelspec": {
   "display_name": "Python 3",
   "language": "python",
   "name": "python3"
  },
  "language_info": {
   "codemirror_mode": {
    "name": "ipython",
    "version": 3
   },
   "file_extension": ".py",
   "mimetype": "text/x-python",
   "name": "python",
   "nbconvert_exporter": "python",
   "pygments_lexer": "ipython3",
   "version": "3.10.12"
  },
  "orig_nbformat": 4
 },
 "nbformat": 4,
 "nbformat_minor": 2
}
