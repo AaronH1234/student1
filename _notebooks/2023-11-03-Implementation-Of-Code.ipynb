{
 "cells": [
  {
   "cell_type": "markdown",
   "metadata": {},
   "source": [
    "---\n",
    "toc: true\n",
    "comments: false\n",
    "layout: post\n",
    "title: Implementation-Of-Code.\n",
    "type: hacks\n",
    "courses: { compsci: {week: 12} }\n",
    "---"
   ]
  },
  {
   "cell_type": "markdown",
   "metadata": {},
   "source": [
    "## Scrollbar in the ChatRoom"
   ]
  },
  {
   "cell_type": "code",
   "execution_count": null,
   "metadata": {
    "vscode": {
     "languageId": "css"
    }
   },
   "outputs": [],
   "source": [
    ".chatroom-messages::-webkit-scrollbar {\n",
    "    width: 8px; \n",
    "}\n",
    ".chatroom-messages::-webkit-scrollbar-thumb {\n",
    "    background-color: #301934; \n",
    "}"
   ]
  },
  {
   "cell_type": "markdown",
   "metadata": {},
   "source": [
    "- I added a scrollbar in the chatroom\n",
    "- If no scrollbar, then if there is too many message, the shape of the chatroom will break."
   ]
  },
  {
   "cell_type": "markdown",
   "metadata": {},
   "source": [
    "## Enter to send"
   ]
  },
  {
   "cell_type": "code",
   "execution_count": null,
   "metadata": {
    "vscode": {
     "languageId": "html"
    }
   },
   "outputs": [],
   "source": [
    "<button id=\"send\" onclick=\"sendMessage()\">Send</button>"
   ]
  },
  {
   "cell_type": "code",
   "execution_count": null,
   "metadata": {
    "vscode": {
     "languageId": "javascript"
    }
   },
   "outputs": [],
   "source": [
    "function handleKeyPress(event) {\n",
    "    if (event.key === \"Enter\") {\n",
    "        event.preventDefault();\n",
    "        sendMessage();\n",
    "    }\n",
    "}"
   ]
  },
  {
   "cell_type": "markdown",
   "metadata": {},
   "source": [
    "- I added a button \"Send\", if you click on that, the message will send.\n",
    "- Later I feel like is too complicate, so I add code when user press enter, the message will send."
   ]
  },
  {
   "cell_type": "markdown",
   "metadata": {},
   "source": [
    "## Time"
   ]
  },
  {
   "cell_type": "code",
   "execution_count": null,
   "metadata": {
    "vscode": {
     "languageId": "javascript"
    }
   },
   "outputs": [],
   "source": [
    "const timestamp = new Date().toLocaleTimeString([], { hour: '2-digit', minute: '2-digit' });\n",
    "const messageWithTimestamp = `[${timestamp}] ${message}`;\n",
    "const messageElement = document.createElement(\"div\");\n",
    "messageElement.textContent = messageWithTimestamp;"
   ]
  },
  {
   "cell_type": "markdown",
   "metadata": {},
   "source": [
    "- I added some code so when ever the message was send it will show the time\n"
   ]
  }
 ],
 "metadata": {
  "language_info": {
   "name": "python"
  }
 },
 "nbformat": 4,
 "nbformat_minor": 2
}
