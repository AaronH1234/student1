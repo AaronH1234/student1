{
 "cells": [
  {
   "cell_type": "markdown",
   "metadata": {},
   "source": [
    "---\n",
    "toc: true \n",
    "comments: false \n",
    "layout: post\n",
    "title: JS Cell \n",
    "courses: { compsci: {week: 1} } \n",
    "type: hacks\n",
    "---\n"
   ]
  },
  {
   "cell_type": "code",
   "execution_count": null,
   "metadata": {
    "vscode": {
     "languageId": "javascript"
    }
   },
   "outputs": [],
   "source": [
    "// JS\n",
    "var a = 1;\n",
    "var b = 1;\n",
    "\n",
    "if (a == b) {\n",
    "    console.log(\"A = B\");\n",
    "}"
   ]
  },
  {
   "cell_type": "code",
   "execution_count": null,
   "metadata": {},
   "outputs": [],
   "source": [
    "# Python\n",
    "\n",
    "# Define variables\n",
    "num = 1\n",
    "\n",
    "# For loop\n",
    "for i in range(100):\n",
    "    # Adds the number to the sum\n",
    "    sum = sum + num\n",
    "\n",
    "# Prints sum\n",
    "print(sum)"
   ]
  },
  {
   "cell_type": "code",
   "execution_count": null,
   "metadata": {
    "vscode": {
     "languageId": "javascript"
    }
   },
   "outputs": [],
   "source": [
    "// JS\n",
    "\n",
    "// Define variables\n",
    "var sum;\n",
    "var num;\n",
    "\n",
    "// For loop\n",
    "for (let int = 0; int < 100; step++) {\n",
    "    // Adds the number to the sum\n",
    "    sum = sum + num;\n",
    "}\n",
    "\n",
    "// Prints sum\n",
    "console.log(sum);"
   ]
  }
 ],
 "metadata": {
  "language_info": {
   "name": "python"
  },
  "orig_nbformat": 4
 },
 "nbformat": 4,
 "nbformat_minor": 2
}
