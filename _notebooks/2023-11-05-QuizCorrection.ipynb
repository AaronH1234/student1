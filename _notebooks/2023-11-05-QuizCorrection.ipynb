{
 "cells": [
  {
   "cell_type": "markdown",
   "metadata": {},
   "source": [
    "---\n",
    "toc: true\n",
    "comments: false\n",
    "layout: post\n",
    "title: Quiz Correction\n",
    "type: hacks\n",
    "courses: { compsci: {week: 12} }\n",
    "---"
   ]
  },
  {
   "cell_type": "markdown",
   "metadata": {},
   "source": [
    "## Quiz Correction"
   ]
  },
  {
   "cell_type": "markdown",
   "metadata": {},
   "source": [
    "- Q8 Metadata about photos\n",
    "A smartphone stores the following data for each photo that is taken using the phone.\n",
    "\n",
    "The answer is B because III. isn't right, the name of the person who tool a photo isn't captured in the photo data."
   ]
  },
  {
   "cell_type": "markdown",
   "metadata": {},
   "source": [
    "- Q15 Internet communications characteristics\n",
    "\n",
    "The answer is C because connecting new devices to the Internet is enabled by assignment of an IP address."
   ]
  },
  {
   "cell_type": "markdown",
   "metadata": {},
   "source": [
    "- Q22 Procedure to determine the weather\n",
    "\n",
    "The answer is B because this Boolean expression evaluates to true when the number of temperatures greater than or equal to 90 is greater than 50% of total."
   ]
  },
  {
   "cell_type": "markdown",
   "metadata": {},
   "source": [
    "- Q23 Redundant routing with four computers\n",
    "\n",
    "The correct answer is B because there is only one way to go from S to P."
   ]
  },
  {
   "cell_type": "markdown",
   "metadata": {},
   "source": [
    "- Q30 Video-streaming service by genre\n",
    "\n",
    "The correct answer is D because the procedure before calling four times inside the loop, it called once outside the loop."
   ]
  },
  {
   "cell_type": "markdown",
   "metadata": {},
   "source": [
    "- Q34 Mouse and predator simulations\n",
    "\n",
    "The answer is D because the number of predators is initialized at the beginning of the program but is never updated."
   ]
  },
  {
   "cell_type": "markdown",
   "metadata": {},
   "source": [
    "- Q35 Musicians and copyright violations\n",
    "\n",
    "The correct answer is D because a no-rights-reserved license allows others to freely make use of the samples."
   ]
  },
  {
   "cell_type": "markdown",
   "metadata": {},
   "source": [
    "- Q37 Comparing code segments to compute average from list\n",
    "\n",
    "The correct answer is C. Code segment I requires more arithmetic operations because it performs the operation sum divided by LENGTH, open parenthesis, num List, close parenthesis within the loop, while code segment II performs the same operation only once."
   ]
  },
  {
   "cell_type": "markdown",
   "metadata": {},
   "source": [
    "- Q38 Frequent customers of a snack bar\n",
    "\n",
    "The correction answer is C because the expression count, MOD, 10 equals 0 evaluates to true when count is a multiple of 1 0, and this code segment sets cost to 0 under the appropriate conditions."
   ]
  },
  {
   "cell_type": "markdown",
   "metadata": {},
   "source": [
    "- Q50 Searching list target\n",
    "\n",
    "The correct answer is B because the procedure implements a linear search, which sequentially compares each element of the list with the target value. And does not need to be sorted because the procedure checks list elements until either the target is found or it reaches the end of the list."
   ]
  },
  {
   "cell_type": "markdown",
   "metadata": {},
   "source": [
    "- Q55 Results of the KeepPlaying procedure\n",
    "\n",
    "The right answer is D because the response will always evaluates to false because the response can never be both y and yes."
   ]
  },
  {
   "cell_type": "markdown",
   "metadata": {},
   "source": [
    "- Q58 Defining Internet enabled crowdsourcing\n",
    "\n",
    "The correction is A because the internet aren't able to solve a large input size is reasonable time."
   ]
  },
  {
   "cell_type": "markdown",
   "metadata": {},
   "source": [
    "- Q65 Correcting errors in procedure Multiply\n",
    "\n",
    "The correct anser is B and D because both B and D will give you a negative x and y and this code can't run negative."
   ]
  },
  {
   "cell_type": "markdown",
   "metadata": {},
   "source": [
    "- Q66 Test cases for procedure Smallest\n",
    "\n",
    "The correct answer is C and D because the return of those two list aren't the smallest number."
   ]
  }
 ],
 "metadata": {
  "language_info": {
   "name": "python"
  }
 },
 "nbformat": 4,
 "nbformat_minor": 2
}
