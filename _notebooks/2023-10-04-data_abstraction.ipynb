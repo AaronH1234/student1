{
 "cells": [
  {
   "cell_type": "markdown",
   "metadata": {},
   "source": [
    "---\n",
    "toc: True\n",
    "comments: True\n",
    "layout: post\n",
    "title: Data abstraction HW\n",
    "type: hacks\n",
    "courses: {'compsci': {'week': 6}}\n",
    "---"
   ]
  },
  {
   "cell_type": "code",
   "execution_count": null,
   "metadata": {},
   "outputs": [],
   "source": [
    "firstname = \"Aaron\"\n",
    "print(firstname)\n",
    "\n",
    "age = 16\n",
    "print(age)"
   ]
  },
  {
   "cell_type": "code",
   "execution_count": 4,
   "metadata": {},
   "outputs": [
    {
     "name": "stdout",
     "output_type": "stream",
     "text": [
      "Aaron\n",
      "19\n",
      "19 is bigger than 18\n"
     ]
    }
   ],
   "source": [
    "firstname = \"Aaron\"\n",
    "print(firstname)\n",
    "\n",
    "age = 19\n",
    "print(age)\n",
    "\n",
    "if age <= 18:\n",
    "    print(f\"{age} is less than 18\")\n",
    "else:\n",
    "    print(f\"{age} is bigger than 18\")"
   ]
  },
  {
   "cell_type": "code",
   "execution_count": 6,
   "metadata": {},
   "outputs": [
    {
     "name": "stdout",
     "output_type": "stream",
     "text": [
      "20 10 30\n",
      "30 30 30\n"
     ]
    }
   ],
   "source": [
    "num1 = 20\n",
    "num2 = 10\n",
    "num3 = 30\n",
    "print(num1, num2, num3)\n",
    "num1 = num2\n",
    "num1 = num3\n",
    "num2 = num3\n",
    "print(num1, num2, num3)"
   ]
  },
  {
   "cell_type": "code",
   "execution_count": 7,
   "metadata": {},
   "outputs": [
    {
     "name": "stdout",
     "output_type": "stream",
     "text": [
      "n\n",
      "Hello World aa 0\n"
     ]
    }
   ],
   "source": [
    "name = \"eryuknbvftyuiol\"\n",
    "print(name[5])\n",
    "\n",
    "rn_list = [\"Hello World\", 345, \"aa\", True, 0, None, \"987654\"]\n",
    "print(rn_list[0], rn_list[2], rn_list[4])"
   ]
  },
  {
   "cell_type": "code",
   "execution_count": null,
   "metadata": {},
   "outputs": [],
   "source": [
    "def __init__(self, name, age):\n",
    "    self.name = name\n",
    "    self.age = age"
   ]
  },
  {
   "cell_type": "code",
   "execution_count": null,
   "metadata": {},
   "outputs": [],
   "source": [
    "import json\n",
    "string = [\"Aaron\", \"Eshaan\", \"Brandon\", \"Ninaad\"]\n",
    "json_obj = json.dumps(list)\n",
    "print(json_obj)"
   ]
  },
  {
   "cell_type": "code",
   "execution_count": null,
   "metadata": {},
   "outputs": [],
   "source": [
    "## Homework\n",
    "people = {\n",
    "    \"Aaron\" : 16,\n",
    "    \"Eshaan\" : 15,\n",
    "    \"Brandon\" : 50,\n",
    "    \"Ninaade\" : 3\n",
    "}\n",
    "\n",
    "for person in people:\n",
    "    print(person + \" is \" + str(people[person]) + \" years old\")"
   ]
  }
 ],
 "metadata": {
  "kernelspec": {
   "display_name": "Python 3",
   "language": "python",
   "name": "python3"
  },
  "language_info": {
   "codemirror_mode": {
    "name": "ipython",
    "version": 3
   },
   "file_extension": ".py",
   "mimetype": "text/x-python",
   "name": "python",
   "nbconvert_exporter": "python",
   "pygments_lexer": "ipython3",
   "version": "3.10.12"
  },
  "orig_nbformat": 4
 },
 "nbformat": 4,
 "nbformat_minor": 2
}
