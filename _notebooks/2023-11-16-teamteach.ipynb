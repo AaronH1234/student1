{
 "cells": [
  {
   "cell_type": "markdown",
   "metadata": {},
   "source": [
    "### Crowdsourcing\n",
    "Crowdsourcing is the action of acquirring work and information from a large group of people via the internet. This information can be obtained from social media and other forms of media throughout the internet. Crowdsourcing allows companies to work with people throughout the world and aquire a variety of different skills. \n",
    "![crowdsourcing image](https://www.investopedia.com/thmb/-csD4ERbU65LWGDvuXuPvUV8cUY=/1500x0/filters:no_upscale():max_bytes(150000):strip_icc()/crowdsourcing.asp-final-7a1d5dcc4f3b45c38c0a5050354f66f4.png)\n",
    "\n",
    "# variations of crowdsourcing\n",
    "Idea Generation: Seeking ideas and suggestions from the crowd to solve a problem or improve a product.\n",
    "\n",
    "Microtasks: Breaking down a large task into smaller, manageable microtasks that can be distributed to a crowd.\n",
    "\n",
    "Funding: Crowdfunding platforms, where a crowd financially supports projects, products, or causes.\n",
    "\n",
    "ata Collection: Gathering and analyzing data through contributions from a large number of individuals.\n",
    "\n",
    "Open Innovation: Involving external contributors in the innovation process of a company.\n",
    "\n",
    "# benefits of crowdsourcing\n",
    "Crowdsourcing is cost efficent because it allows access to talented workers without the need for a traditional workforce. Also, projects and work can be completed in a lesser amount of time due to the many contributors. Finally, the diversity of contributors can lead to innovative ideas and solutions that may have not emerged in a traditional setting. \n",
    "\n",
    "# Example of crowdsourcing\n",
    " A well-known example of crowdsourcing is the website Wikipedia. Wikipedia is an online encyclopedia where anybody can contribute and add information onto the site. \n",
    "\n",
    "# drawbacks of crowdsourcing\n",
    "There might be complications when crowdsourcing such as difficulties in confidentiality and communication between the groups involved. There is also a slight chance of receiving low quality work if a collaborater misunderstands the project's requirements.\n",
    "## Popcorn Hack  \n",
    "How can organizations optimize crowdsoucing while minimizing the drawbacks?\n"
   ]
  },
  {
   "cell_type": "markdown",
   "metadata": {},
   "source": [
    "## Citizen Science  \n",
    "- Citizen Science is scientific research that the general population helps to conduct. Ordinary citizens, often non-scientists, help contribute data to research projects using computing devices.\n",
    "- Gives a wide range of people the ability to contribute to scientific studies which provides more diverse data.\n",
    "### Popcorn Hack  \n",
    "How do you believe participating in a citizen science project could enhance both scientific research and public engagement, and can you share any specific areas of scientific study where citizen science might make a significant impact in the future?"
   ]
  },
  {
   "cell_type": "markdown",
   "metadata": {},
   "source": [
    "# Homework\n",
    "## Question 1  \n",
    "Explain the concept of crowdsourcing. Provide examples of how it is commonly used in different fields.\n",
    "\n",
    "Crowdsourcing is a distributed problem-solving and idea-generating approach that involves obtaining input, services, or content by soliciting contributions from a large group of people, typically via the internet.\n",
    "Wikipedia is a example.\n",
    "## Question 2  \n",
    "Discuss the benefits and challenges associated with crowdsourcing. How can organizations effectively harness the power of crowdsourcing while mitigating potential drawbacks?\n",
    "\n",
    "Benefits of Crowdsourcing:\n",
    "\n",
    "Diverse Perspectives: Crowdsourcing allows organizations to tap into a diverse range of perspectives, skills, and expertise from a global community. This diversity often leads to innovative solutions and creative ideas that may not have been possible within a closed organizational structure.\n",
    "\n",
    "Challenges of Crowdsourcing:\n",
    "\n",
    "Quality Control: Maintaining the quality of contributions can be a challenge. Crowdsourcing may result in a mix of high-quality and low-quality submissions, requiring effective mechanisms for vetting and filtering to ensure valuable contributions rise to the top.\n",
    "## Question 3  \n",
    "Identify a real-world example of a successful crowdsourcing project. Explain the project, its goals, and the positive outcomes achieved through the collaboration of a large group of people.\n",
    "\n",
    "Project Goals:\n",
    "The primary goal of Foldit is to decipher the 3D structure of proteins. Understanding protein folding is crucial for advancing research in fields such as biochemistry and medicine, as misfolded proteins are often associated with diseases. Protein folding is a computationally challenging task, and Foldit aims to leverage the intuitive problem-solving abilities of human players to complement computer algorithms.\n",
    "### Question 4\n",
    "Create a hypothetical scenario where crowdsourcing could be applied to solve a specific problem. Describe the problem, the type of contributions you would seek from the crowd, and the potential impact of implementing the crowdsourced solution.\n",
    "\n",
    "Problem:\n",
    "A city faces transportation challenges due to frequent traffic jams and an outdated public transportation system.\n",
    "\n",
    "Crowdsourcing method:\n",
    "In order to solve this traffic problem, a crowdsourcing project called \"CityMove\" was launched. CityMove invites residents, urban planners and transportation enthusiasts to contribute ideas and solutions to enhance the city’s transportation system.\n",
    "\n",
    "Potential contribution:\n",
    "Contributors can provide ideas for optimizing traffic flow through smart traffic management systems, synchronized traffic signals, or innovative road design.\n",
    "\n",
    "Potential impact:\n",
    "By harnessing the collective wisdom of the crowd through CityMove, cities can tap into a rich diversity of perspectives and innovative ideas. The implementation of crowdsourced solutions can lead to more efficient and sustainable transportation systems, reduce traffic congestion, lower pollution levels, and improve the overall quality of life for residents."
   ]
  }
 ],
 "metadata": {
  "language_info": {
   "name": "python"
  }
 },
 "nbformat": 4,
 "nbformat_minor": 2
}
